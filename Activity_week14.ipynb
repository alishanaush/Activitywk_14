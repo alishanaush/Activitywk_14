{
 "cells": [
  {
   "cell_type": "code",
   "execution_count": 120,
   "id": "34d85a5e",
   "metadata": {},
   "outputs": [],
   "source": [
    "#importing libraries\n",
    "import pandas as pd\n",
    "import numpy as np\n",
    "import matplotlib.pyplot as plt\n",
    "import seaborn as sns"
   ]
  },
  {
   "cell_type": "code",
   "execution_count": 121,
   "id": "6c11bd03",
   "metadata": {},
   "outputs": [],
   "source": [
    "#loading dataset\n",
    "df=pd.read_csv('Country-data.csv')"
   ]
  },
  {
   "cell_type": "code",
   "execution_count": 122,
   "id": "d162942e",
   "metadata": {},
   "outputs": [
    {
     "data": {
      "text/html": [
       "<div>\n",
       "<style scoped>\n",
       "    .dataframe tbody tr th:only-of-type {\n",
       "        vertical-align: middle;\n",
       "    }\n",
       "\n",
       "    .dataframe tbody tr th {\n",
       "        vertical-align: top;\n",
       "    }\n",
       "\n",
       "    .dataframe thead th {\n",
       "        text-align: right;\n",
       "    }\n",
       "</style>\n",
       "<table border=\"1\" class=\"dataframe\">\n",
       "  <thead>\n",
       "    <tr style=\"text-align: right;\">\n",
       "      <th></th>\n",
       "      <th>country</th>\n",
       "      <th>child_mort</th>\n",
       "      <th>exports</th>\n",
       "      <th>health</th>\n",
       "      <th>imports</th>\n",
       "      <th>income</th>\n",
       "      <th>inflation</th>\n",
       "      <th>life_expec</th>\n",
       "      <th>total_fer</th>\n",
       "      <th>gdpp</th>\n",
       "    </tr>\n",
       "  </thead>\n",
       "  <tbody>\n",
       "    <tr>\n",
       "      <th>0</th>\n",
       "      <td>Afghanistan</td>\n",
       "      <td>90.2</td>\n",
       "      <td>10.0</td>\n",
       "      <td>7.58</td>\n",
       "      <td>44.9</td>\n",
       "      <td>1610</td>\n",
       "      <td>9.44</td>\n",
       "      <td>56.2</td>\n",
       "      <td>5.82</td>\n",
       "      <td>553</td>\n",
       "    </tr>\n",
       "    <tr>\n",
       "      <th>1</th>\n",
       "      <td>Albania</td>\n",
       "      <td>16.6</td>\n",
       "      <td>28.0</td>\n",
       "      <td>6.55</td>\n",
       "      <td>48.6</td>\n",
       "      <td>9930</td>\n",
       "      <td>4.49</td>\n",
       "      <td>76.3</td>\n",
       "      <td>1.65</td>\n",
       "      <td>4090</td>\n",
       "    </tr>\n",
       "    <tr>\n",
       "      <th>2</th>\n",
       "      <td>Algeria</td>\n",
       "      <td>27.3</td>\n",
       "      <td>38.4</td>\n",
       "      <td>4.17</td>\n",
       "      <td>31.4</td>\n",
       "      <td>12900</td>\n",
       "      <td>16.10</td>\n",
       "      <td>76.5</td>\n",
       "      <td>2.89</td>\n",
       "      <td>4460</td>\n",
       "    </tr>\n",
       "    <tr>\n",
       "      <th>3</th>\n",
       "      <td>Angola</td>\n",
       "      <td>119.0</td>\n",
       "      <td>62.3</td>\n",
       "      <td>2.85</td>\n",
       "      <td>42.9</td>\n",
       "      <td>5900</td>\n",
       "      <td>22.40</td>\n",
       "      <td>60.1</td>\n",
       "      <td>6.16</td>\n",
       "      <td>3530</td>\n",
       "    </tr>\n",
       "    <tr>\n",
       "      <th>4</th>\n",
       "      <td>Antigua and Barbuda</td>\n",
       "      <td>10.3</td>\n",
       "      <td>45.5</td>\n",
       "      <td>6.03</td>\n",
       "      <td>58.9</td>\n",
       "      <td>19100</td>\n",
       "      <td>1.44</td>\n",
       "      <td>76.8</td>\n",
       "      <td>2.13</td>\n",
       "      <td>12200</td>\n",
       "    </tr>\n",
       "  </tbody>\n",
       "</table>\n",
       "</div>"
      ],
      "text/plain": [
       "               country  child_mort  exports  health  imports  income  \\\n",
       "0          Afghanistan        90.2     10.0    7.58     44.9    1610   \n",
       "1              Albania        16.6     28.0    6.55     48.6    9930   \n",
       "2              Algeria        27.3     38.4    4.17     31.4   12900   \n",
       "3               Angola       119.0     62.3    2.85     42.9    5900   \n",
       "4  Antigua and Barbuda        10.3     45.5    6.03     58.9   19100   \n",
       "\n",
       "   inflation  life_expec  total_fer   gdpp  \n",
       "0       9.44        56.2       5.82    553  \n",
       "1       4.49        76.3       1.65   4090  \n",
       "2      16.10        76.5       2.89   4460  \n",
       "3      22.40        60.1       6.16   3530  \n",
       "4       1.44        76.8       2.13  12200  "
      ]
     },
     "execution_count": 122,
     "metadata": {},
     "output_type": "execute_result"
    }
   ],
   "source": [
    "df.head()"
   ]
  },
  {
   "cell_type": "code",
   "execution_count": 123,
   "id": "a8851279",
   "metadata": {},
   "outputs": [
    {
     "data": {
      "text/plain": [
       "(167, 10)"
      ]
     },
     "execution_count": 123,
     "metadata": {},
     "output_type": "execute_result"
    }
   ],
   "source": [
    "df.shape"
   ]
  },
  {
   "cell_type": "code",
   "execution_count": 124,
   "id": "52cb910b",
   "metadata": {},
   "outputs": [
    {
     "data": {
      "text/plain": [
       "country       0\n",
       "child_mort    0\n",
       "exports       0\n",
       "health        0\n",
       "imports       0\n",
       "income        0\n",
       "inflation     0\n",
       "life_expec    0\n",
       "total_fer     0\n",
       "gdpp          0\n",
       "dtype: int64"
      ]
     },
     "execution_count": 124,
     "metadata": {},
     "output_type": "execute_result"
    }
   ],
   "source": [
    "#checking null values\n",
    "df.isna().sum()"
   ]
  },
  {
   "cell_type": "code",
   "execution_count": 125,
   "id": "5f9aecec",
   "metadata": {},
   "outputs": [
    {
     "data": {
      "text/html": [
       "<div>\n",
       "<style scoped>\n",
       "    .dataframe tbody tr th:only-of-type {\n",
       "        vertical-align: middle;\n",
       "    }\n",
       "\n",
       "    .dataframe tbody tr th {\n",
       "        vertical-align: top;\n",
       "    }\n",
       "\n",
       "    .dataframe thead th {\n",
       "        text-align: right;\n",
       "    }\n",
       "</style>\n",
       "<table border=\"1\" class=\"dataframe\">\n",
       "  <thead>\n",
       "    <tr style=\"text-align: right;\">\n",
       "      <th></th>\n",
       "      <th>child_mort</th>\n",
       "      <th>exports</th>\n",
       "      <th>health</th>\n",
       "      <th>imports</th>\n",
       "      <th>income</th>\n",
       "      <th>inflation</th>\n",
       "      <th>life_expec</th>\n",
       "      <th>total_fer</th>\n",
       "      <th>gdpp</th>\n",
       "    </tr>\n",
       "  </thead>\n",
       "  <tbody>\n",
       "    <tr>\n",
       "      <th>count</th>\n",
       "      <td>167.000000</td>\n",
       "      <td>167.000000</td>\n",
       "      <td>167.000000</td>\n",
       "      <td>167.000000</td>\n",
       "      <td>167.000000</td>\n",
       "      <td>167.000000</td>\n",
       "      <td>167.000000</td>\n",
       "      <td>167.000000</td>\n",
       "      <td>167.000000</td>\n",
       "    </tr>\n",
       "    <tr>\n",
       "      <th>mean</th>\n",
       "      <td>38.270060</td>\n",
       "      <td>41.108976</td>\n",
       "      <td>6.815689</td>\n",
       "      <td>46.890215</td>\n",
       "      <td>17144.688623</td>\n",
       "      <td>7.781832</td>\n",
       "      <td>70.555689</td>\n",
       "      <td>2.947964</td>\n",
       "      <td>12964.155689</td>\n",
       "    </tr>\n",
       "    <tr>\n",
       "      <th>std</th>\n",
       "      <td>40.328931</td>\n",
       "      <td>27.412010</td>\n",
       "      <td>2.746837</td>\n",
       "      <td>24.209589</td>\n",
       "      <td>19278.067698</td>\n",
       "      <td>10.570704</td>\n",
       "      <td>8.893172</td>\n",
       "      <td>1.513848</td>\n",
       "      <td>18328.704809</td>\n",
       "    </tr>\n",
       "    <tr>\n",
       "      <th>min</th>\n",
       "      <td>2.600000</td>\n",
       "      <td>0.109000</td>\n",
       "      <td>1.810000</td>\n",
       "      <td>0.065900</td>\n",
       "      <td>609.000000</td>\n",
       "      <td>-4.210000</td>\n",
       "      <td>32.100000</td>\n",
       "      <td>1.150000</td>\n",
       "      <td>231.000000</td>\n",
       "    </tr>\n",
       "    <tr>\n",
       "      <th>25%</th>\n",
       "      <td>8.250000</td>\n",
       "      <td>23.800000</td>\n",
       "      <td>4.920000</td>\n",
       "      <td>30.200000</td>\n",
       "      <td>3355.000000</td>\n",
       "      <td>1.810000</td>\n",
       "      <td>65.300000</td>\n",
       "      <td>1.795000</td>\n",
       "      <td>1330.000000</td>\n",
       "    </tr>\n",
       "    <tr>\n",
       "      <th>50%</th>\n",
       "      <td>19.300000</td>\n",
       "      <td>35.000000</td>\n",
       "      <td>6.320000</td>\n",
       "      <td>43.300000</td>\n",
       "      <td>9960.000000</td>\n",
       "      <td>5.390000</td>\n",
       "      <td>73.100000</td>\n",
       "      <td>2.410000</td>\n",
       "      <td>4660.000000</td>\n",
       "    </tr>\n",
       "    <tr>\n",
       "      <th>75%</th>\n",
       "      <td>62.100000</td>\n",
       "      <td>51.350000</td>\n",
       "      <td>8.600000</td>\n",
       "      <td>58.750000</td>\n",
       "      <td>22800.000000</td>\n",
       "      <td>10.750000</td>\n",
       "      <td>76.800000</td>\n",
       "      <td>3.880000</td>\n",
       "      <td>14050.000000</td>\n",
       "    </tr>\n",
       "    <tr>\n",
       "      <th>max</th>\n",
       "      <td>208.000000</td>\n",
       "      <td>200.000000</td>\n",
       "      <td>17.900000</td>\n",
       "      <td>174.000000</td>\n",
       "      <td>125000.000000</td>\n",
       "      <td>104.000000</td>\n",
       "      <td>82.800000</td>\n",
       "      <td>7.490000</td>\n",
       "      <td>105000.000000</td>\n",
       "    </tr>\n",
       "  </tbody>\n",
       "</table>\n",
       "</div>"
      ],
      "text/plain": [
       "       child_mort     exports      health     imports         income  \\\n",
       "count  167.000000  167.000000  167.000000  167.000000     167.000000   \n",
       "mean    38.270060   41.108976    6.815689   46.890215   17144.688623   \n",
       "std     40.328931   27.412010    2.746837   24.209589   19278.067698   \n",
       "min      2.600000    0.109000    1.810000    0.065900     609.000000   \n",
       "25%      8.250000   23.800000    4.920000   30.200000    3355.000000   \n",
       "50%     19.300000   35.000000    6.320000   43.300000    9960.000000   \n",
       "75%     62.100000   51.350000    8.600000   58.750000   22800.000000   \n",
       "max    208.000000  200.000000   17.900000  174.000000  125000.000000   \n",
       "\n",
       "        inflation  life_expec   total_fer           gdpp  \n",
       "count  167.000000  167.000000  167.000000     167.000000  \n",
       "mean     7.781832   70.555689    2.947964   12964.155689  \n",
       "std     10.570704    8.893172    1.513848   18328.704809  \n",
       "min     -4.210000   32.100000    1.150000     231.000000  \n",
       "25%      1.810000   65.300000    1.795000    1330.000000  \n",
       "50%      5.390000   73.100000    2.410000    4660.000000  \n",
       "75%     10.750000   76.800000    3.880000   14050.000000  \n",
       "max    104.000000   82.800000    7.490000  105000.000000  "
      ]
     },
     "execution_count": 125,
     "metadata": {},
     "output_type": "execute_result"
    }
   ],
   "source": [
    "df.describe()"
   ]
  },
  {
   "cell_type": "code",
   "execution_count": 126,
   "id": "de511493",
   "metadata": {},
   "outputs": [],
   "source": [
    "df1=df.copy()\n",
    "#Encoding country\n",
    "from sklearn.preprocessing import LabelEncoder\n",
    "le=LabelEncoder()\n",
    "df1['country_en']=le.fit_transform(df1['country'])"
   ]
  },
  {
   "cell_type": "code",
   "execution_count": 127,
   "id": "e93e60d4",
   "metadata": {},
   "outputs": [],
   "source": [
    "df1=df1.drop(['country'],axis=1)"
   ]
  },
  {
   "cell_type": "code",
   "execution_count": 128,
   "id": "5fb40233",
   "metadata": {},
   "outputs": [
    {
     "data": {
      "image/png": "[encoded data removed]",
      "text/plain": [
       "<Figure size 1080x72 with 1 Axes>"
      ]
     },
     "metadata": {
      "needs_background": "light"
     },
     "output_type": "display_data"
    },
    {
     "data": {
      "image/png": "[encoded data removed]",
      "text/plain": [
       "<Figure size 1080x72 with 1 Axes>"
      ]
     },
     "metadata": {
      "needs_background": "light"
     },
     "output_type": "display_data"
    },
    {
     "data": {
      "image/png": "[encoded data removed]",
      "text/plain": [
       "<Figure size 1080x72 with 1 Axes>"
      ]
     },
     "metadata": {
      "needs_background": "light"
     },
     "output_type": "display_data"
    },
    {
     "data": {
      "image/png": "[encoded data removed]",
      "text/plain": [
       "<Figure size 1080x72 with 1 Axes>"
      ]
     },
     "metadata": {
      "needs_background": "light"
     },
     "output_type": "display_data"
    },
    {
     "data": {
      "image/png": "[encoded data removed]",
      "text/plain": [
       "<Figure size 1080x72 with 1 Axes>"
      ]
     },
     "metadata": {
      "needs_background": "light"
     },
     "output_type": "display_data"
    },
    {
     "data": {
      "image/png": "[encoded data removed]",
      "text/plain": [
       "<Figure size 1080x72 with 1 Axes>"
      ]
     },
     "metadata": {
      "needs_background": "light"
     },
     "output_type": "display_data"
    },
    {
     "data": {
      "image/png": "[encoded data removed]",
      "text/plain": [
       "<Figure size 1080x72 with 1 Axes>"
      ]
     },
     "metadata": {
      "needs_background": "light"
     },
     "output_type": "display_data"
    },
    {
     "data": {
      "image/png": "[encoded data removed]",
      "text/plain": [
       "<Figure size 1080x72 with 1 Axes>"
      ]
     },
     "metadata": {
      "needs_background": "light"
     },
     "output_type": "display_data"
    },
    {
     "data": {
      "image/png": "[encoded data removed]",
      "text/plain": [
       "<Figure size 1080x72 with 1 Axes>"
      ]
     },
     "metadata": {
      "needs_background": "light"
     },
     "output_type": "display_data"
    },
    {
     "data": {
      "image/png": "[encoded data removed]",
      "text/plain": [
       "<Figure size 1080x72 with 1 Axes>"
      ]
     },
     "metadata": {
      "needs_background": "light"
     },
     "output_type": "display_data"
    }
   ],
   "source": [
    "#Checking for Outliers\n",
    "for column in df1:\n",
    "        plt.figure(figsize=(15,1))\n",
    "        sns.boxplot(data=df1, x=column)"
   ]
  },
  {
   "cell_type": "code",
   "execution_count": 129,
   "id": "648230dd",
   "metadata": {},
   "outputs": [],
   "source": [
    "#Removing outliers\n",
    "for column in df1:\n",
    "        Q1=np.percentile(df1[column],25,interpolation='midpoint')\n",
    "        Q2=np.percentile(df1[column],50,interpolation='midpoint')\n",
    "        Q3=np.percentile(df1[column],75,interpolation='midpoint')\n",
    "        IQR=Q3-Q1\n",
    "        #lower and Upper limit\n",
    "        low_lim=Q1-1.5*IQR\n",
    "        up_lim=Q3+1.5*IQR\n",
    "        outlier=[]\n",
    "        for x in df1[column]:\n",
    "            if((x>up_lim)or(x<low_lim)):\n",
    "                outlier.append(x)\n",
    "        ind=(df1[column]<=low_lim)\n",
    "        ind1=(df1[column]>=up_lim)\n",
    "        ind_new=df1.loc[ind].index\n",
    "        ind_new1=df1.loc[ind1].index\n",
    "        for i in ind_new:\n",
    "            df1.drop([i],inplace=True)\n",
    "        for i in ind_new1:\n",
    "            df1.drop([i],inplace=True)"
   ]
  },
  {
   "cell_type": "code",
   "execution_count": 130,
   "id": "4792437f",
   "metadata": {},
   "outputs": [
    {
     "data": {
      "image/png": "[encoded data removed]",
      "text/plain": [
       "<Figure size 1080x72 with 1 Axes>"
      ]
     },
     "metadata": {
      "needs_background": "light"
     },
     "output_type": "display_data"
    },
    {
     "data": {
      "image/png": "[encoded data removed]",
      "text/plain": [
       "<Figure size 1080x72 with 1 Axes>"
      ]
     },
     "metadata": {
      "needs_background": "light"
     },
     "output_type": "display_data"
    },
    {
     "data": {
      "image/png": "[encoded data removed]",
      "text/plain": [
       "<Figure size 1080x72 with 1 Axes>"
      ]
     },
     "metadata": {
      "needs_background": "light"
     },
     "output_type": "display_data"
    },
    {
     "data": {
      "image/png": "[encoded data removed]",
      "text/plain": [
       "<Figure size 1080x72 with 1 Axes>"
      ]
     },
     "metadata": {
      "needs_background": "light"
     },
     "output_type": "display_data"
    },
    {
     "data": {
      "image/png": "[encoded data removed]",
      "text/plain": [
       "<Figure size 1080x72 with 1 Axes>"
      ]
     },
     "metadata": {
      "needs_background": "light"
     },
     "output_type": "display_data"
    },
    {
     "data": {
      "image/png": "[encoded data removed]",
      "text/plain": [
       "<Figure size 1080x72 with 1 Axes>"
      ]
     },
     "metadata": {
      "needs_background": "light"
     },
     "output_type": "display_data"
    },
    {
     "data": {
      "image/png": "[encoded data removed]",
      "text/plain": [
       "<Figure size 1080x72 with 1 Axes>"
      ]
     },
     "metadata": {
      "needs_background": "light"
     },
     "output_type": "display_data"
    },
    {
     "data": {
      "image/png": "[encoded data removed]",
      "text/plain": [
       "<Figure size 1080x72 with 1 Axes>"
      ]
     },
     "metadata": {
      "needs_background": "light"
     },
     "output_type": "display_data"
    },
    {
     "data": {
      "image/png": "[encoded data removed]",
      "text/plain": [
       "<Figure size 1080x72 with 1 Axes>"
      ]
     },
     "metadata": {
      "needs_background": "light"
     },
     "output_type": "display_data"
    },
    {
     "data": {
      "image/png": "[encoded data removed]",
      "text/plain": [
       "<Figure size 1080x72 with 1 Axes>"
      ]
     },
     "metadata": {
      "needs_background": "light"
     },
     "output_type": "display_data"
    }
   ],
   "source": [
    "for column in df1:\n",
    "        plt.figure(figsize=(15,1))\n",
    "        sns.boxplot(data=df1, x=column)"
   ]
  },
  {
   "cell_type": "code",
   "execution_count": 131,
   "id": "100d0866",
   "metadata": {},
   "outputs": [],
   "source": [
    "#Scaling\n",
    "from sklearn.preprocessing import StandardScaler\n",
    "scaler=StandardScaler()\n",
    "df2=scaler.fit_transform(df1)\n",
    "df2=pd.DataFrame(df2)"
   ]
  },
  {
   "cell_type": "code",
   "execution_count": 132,
   "id": "e3476baf",
   "metadata": {},
   "outputs": [
    {
     "data": {
      "text/html": [
       "<div>\n",
       "<style scoped>\n",
       "    .dataframe tbody tr th:only-of-type {\n",
       "        vertical-align: middle;\n",
       "    }\n",
       "\n",
       "    .dataframe tbody tr th {\n",
       "        vertical-align: top;\n",
       "    }\n",
       "\n",
       "    .dataframe thead th {\n",
       "        text-align: right;\n",
       "    }\n",
       "</style>\n",
       "<table border=\"1\" class=\"dataframe\">\n",
       "  <thead>\n",
       "    <tr style=\"text-align: right;\">\n",
       "      <th></th>\n",
       "      <th>0</th>\n",
       "      <th>1</th>\n",
       "      <th>2</th>\n",
       "      <th>3</th>\n",
       "      <th>4</th>\n",
       "      <th>5</th>\n",
       "      <th>6</th>\n",
       "      <th>7</th>\n",
       "      <th>8</th>\n",
       "      <th>9</th>\n",
       "    </tr>\n",
       "  </thead>\n",
       "  <tbody>\n",
       "    <tr>\n",
       "      <th>0</th>\n",
       "      <td>1.496140</td>\n",
       "      <td>-1.453476</td>\n",
       "      <td>0.573983</td>\n",
       "      <td>-0.020965</td>\n",
       "      <td>-0.972968</td>\n",
       "      <td>0.319527</td>\n",
       "      <td>-1.823541</td>\n",
       "      <td>1.895626</td>\n",
       "      <td>-0.865741</td>\n",
       "      <td>-1.654251</td>\n",
       "    </tr>\n",
       "    <tr>\n",
       "      <th>1</th>\n",
       "      <td>-0.681544</td>\n",
       "      <td>-0.500029</td>\n",
       "      <td>0.107676</td>\n",
       "      <td>0.187261</td>\n",
       "      <td>-0.077438</td>\n",
       "      <td>-0.489241</td>\n",
       "      <td>0.948678</td>\n",
       "      <td>-0.954703</td>\n",
       "      <td>-0.286957</td>\n",
       "      <td>-1.633835</td>\n",
       "    </tr>\n",
       "    <tr>\n",
       "      <th>2</th>\n",
       "      <td>-0.364952</td>\n",
       "      <td>0.050851</td>\n",
       "      <td>-0.969809</td>\n",
       "      <td>-0.780709</td>\n",
       "      <td>0.242240</td>\n",
       "      <td>1.407687</td>\n",
       "      <td>0.976263</td>\n",
       "      <td>-0.107123</td>\n",
       "      <td>-0.226411</td>\n",
       "      <td>-1.613418</td>\n",
       "    </tr>\n",
       "    <tr>\n",
       "      <th>3</th>\n",
       "      <td>2.348278</td>\n",
       "      <td>1.316816</td>\n",
       "      <td>-1.567406</td>\n",
       "      <td>-0.133519</td>\n",
       "      <td>-0.511211</td>\n",
       "      <td>2.437028</td>\n",
       "      <td>-1.285648</td>\n",
       "      <td>2.128027</td>\n",
       "      <td>-0.378593</td>\n",
       "      <td>-1.593001</td>\n",
       "    </tr>\n",
       "    <tr>\n",
       "      <th>4</th>\n",
       "      <td>-0.867949</td>\n",
       "      <td>0.426933</td>\n",
       "      <td>-0.127741</td>\n",
       "      <td>0.766918</td>\n",
       "      <td>0.909582</td>\n",
       "      <td>-0.987572</td>\n",
       "      <td>1.017639</td>\n",
       "      <td>-0.626608</td>\n",
       "      <td>1.040140</td>\n",
       "      <td>-1.572584</td>\n",
       "    </tr>\n",
       "    <tr>\n",
       "      <th>...</th>\n",
       "      <td>...</td>\n",
       "      <td>...</td>\n",
       "      <td>...</td>\n",
       "      <td>...</td>\n",
       "      <td>...</td>\n",
       "      <td>...</td>\n",
       "      <td>...</td>\n",
       "      <td>...</td>\n",
       "      <td>...</td>\n",
       "      <td>...</td>\n",
       "    </tr>\n",
       "    <tr>\n",
       "      <th>120</th>\n",
       "      <td>-0.098659</td>\n",
       "      <td>-0.304043</td>\n",
       "      <td>-0.227340</td>\n",
       "      <td>-0.943913</td>\n",
       "      <td>-0.689886</td>\n",
       "      <td>1.473042</td>\n",
       "      <td>-0.085732</td>\n",
       "      <td>-0.483066</td>\n",
       "      <td>-0.730413</td>\n",
       "      <td>1.632855</td>\n",
       "    </tr>\n",
       "    <tr>\n",
       "      <th>121</th>\n",
       "      <td>-0.308734</td>\n",
       "      <td>0.485199</td>\n",
       "      <td>-0.480866</td>\n",
       "      <td>0.417998</td>\n",
       "      <td>-0.828736</td>\n",
       "      <td>-0.794775</td>\n",
       "      <td>-0.885676</td>\n",
       "      <td>0.309831</td>\n",
       "      <td>-0.470230</td>\n",
       "      <td>1.653271</td>\n",
       "    </tr>\n",
       "    <tr>\n",
       "      <th>122</th>\n",
       "      <td>-0.483304</td>\n",
       "      <td>1.830618</td>\n",
       "      <td>0.238966</td>\n",
       "      <td>1.965624</td>\n",
       "      <td>-0.662977</td>\n",
       "      <td>0.754138</td>\n",
       "      <td>0.507330</td>\n",
       "      <td>-0.749643</td>\n",
       "      <td>-0.741868</td>\n",
       "      <td>1.694105</td>\n",
       "    </tr>\n",
       "    <tr>\n",
       "      <th>123</th>\n",
       "      <td>0.493104</td>\n",
       "      <td>-0.394091</td>\n",
       "      <td>-0.512557</td>\n",
       "      <td>-0.611877</td>\n",
       "      <td>-0.664054</td>\n",
       "      <td>2.633093</td>\n",
       "      <td>-0.265030</td>\n",
       "      <td>1.109564</td>\n",
       "      <td>-0.741868</td>\n",
       "      <td>1.714522</td>\n",
       "    </tr>\n",
       "    <tr>\n",
       "      <th>124</th>\n",
       "      <td>1.286065</td>\n",
       "      <td>-0.023306</td>\n",
       "      <td>-0.191122</td>\n",
       "      <td>-0.808847</td>\n",
       "      <td>-0.793217</td>\n",
       "      <td>1.064574</td>\n",
       "      <td>-2.402811</td>\n",
       "      <td>1.608542</td>\n",
       "      <td>-0.717322</td>\n",
       "      <td>1.734939</td>\n",
       "    </tr>\n",
       "  </tbody>\n",
       "</table>\n",
       "<p>125 rows × 10 columns</p>\n",
       "</div>"
      ],
      "text/plain": [
       "            0         1         2         3         4         5         6  \\\n",
       "0    1.496140 -1.453476  0.573983 -0.020965 -0.972968  0.319527 -1.823541   \n",
       "1   -0.681544 -0.500029  0.107676  0.187261 -0.077438 -0.489241  0.948678   \n",
       "2   -0.364952  0.050851 -0.969809 -0.780709  0.242240  1.407687  0.976263   \n",
       "3    2.348278  1.316816 -1.567406 -0.133519 -0.511211  2.437028 -1.285648   \n",
       "4   -0.867949  0.426933 -0.127741  0.766918  0.909582 -0.987572  1.017639   \n",
       "..        ...       ...       ...       ...       ...       ...       ...   \n",
       "120 -0.098659 -0.304043 -0.227340 -0.943913 -0.689886  1.473042 -0.085732   \n",
       "121 -0.308734  0.485199 -0.480866  0.417998 -0.828736 -0.794775 -0.885676   \n",
       "122 -0.483304  1.830618  0.238966  1.965624 -0.662977  0.754138  0.507330   \n",
       "123  0.493104 -0.394091 -0.512557 -0.611877 -0.664054  2.633093 -0.265030   \n",
       "124  1.286065 -0.023306 -0.191122 -0.808847 -0.793217  1.064574 -2.402811   \n",
       "\n",
       "            7         8         9  \n",
       "0    1.895626 -0.865741 -1.654251  \n",
       "1   -0.954703 -0.286957 -1.633835  \n",
       "2   -0.107123 -0.226411 -1.613418  \n",
       "3    2.128027 -0.378593 -1.593001  \n",
       "4   -0.626608  1.040140 -1.572584  \n",
       "..        ...       ...       ...  \n",
       "120 -0.483066 -0.730413  1.632855  \n",
       "121  0.309831 -0.470230  1.653271  \n",
       "122 -0.749643 -0.741868  1.694105  \n",
       "123  1.109564 -0.741868  1.714522  \n",
       "124  1.608542 -0.717322  1.734939  \n",
       "\n",
       "[125 rows x 10 columns]"
      ]
     },
     "execution_count": 132,
     "metadata": {},
     "output_type": "execute_result"
    }
   ],
   "source": [
    "df2"
   ]
  },
  {
   "cell_type": "code",
   "execution_count": 133,
   "id": "dd0d5784",
   "metadata": {},
   "outputs": [
    {
     "data": {
      "text/plain": [
       "(125, 10)"
      ]
     },
     "execution_count": 133,
     "metadata": {},
     "output_type": "execute_result"
    }
   ],
   "source": [
    "df2.shape"
   ]
  },
  {
   "cell_type": "markdown",
   "id": "d3c39142",
   "metadata": {},
   "source": [
    "# Clustering using KMeans"
   ]
  },
  {
   "cell_type": "code",
   "execution_count": 134,
   "id": "37b66e9c",
   "metadata": {},
   "outputs": [
    {
     "name": "stdout",
     "output_type": "stream",
     "text": [
      "1250.0000000000005\n",
      "877.3849425980795\n",
      "746.5914102887754\n",
      "657.0350694818958\n",
      "606.3726823760012\n",
      "573.7416309437132\n",
      "534.7144411583183\n",
      "509.5414940148041\n",
      "473.09403107331696\n",
      "448.32731849821914\n"
     ]
    },
    {
     "data": {
      "image/png": "[encoded data removed]",
      "text/plain": [
       "<Figure size 432x288 with 1 Axes>"
      ]
     },
     "metadata": {
      "needs_background": "light"
     },
     "output_type": "display_data"
    }
   ],
   "source": [
    "#Finding the optimum number of clusters\n",
    "#plotting elbow method\n",
    "from sklearn.cluster import KMeans\n",
    "wcss=[]\n",
    "for i in range(1,11):\n",
    "    kmeans= KMeans(n_clusters=i, init= 'k-means++', random_state=42)\n",
    "    kmeans.fit(df2)\n",
    "    wcss.append(kmeans.inertia_)\n",
    "    print(kmeans.inertia_)\n",
    "plt.plot(range(1,11),wcss,'-o')\n",
    "plt.title(\"The elbow method\")\n",
    "plt.xlabel(\"Number of clusters\")\n",
    "plt.ylabel(\"wcss\")\n",
    "plt.show()"
   ]
  },
  {
   "cell_type": "markdown",
   "id": "c9f8816f",
   "metadata": {},
   "source": [
    "From the above method,optimum number of clusters is 3"
   ]
  },
  {
   "cell_type": "code",
   "execution_count": 135,
   "id": "62bb32b3",
   "metadata": {},
   "outputs": [
    {
     "data": {
      "text/plain": [
       "array([2, 1, 1, 2, 0, 1, 1, 1, 0, 0, 1, 0, 1, 1, 2, 1, 1, 1, 2, 1, 0, 2,\n",
       "       2, 1, 2, 1, 0, 1, 1, 2, 2, 2, 1, 2, 0, 0, 1, 1, 1, 1, 2, 0, 1, 2,\n",
       "       2, 1, 2, 0, 1, 1, 2, 2, 1, 0, 1, 1, 1, 1, 1, 1, 1, 2, 2, 1, 2, 0,\n",
       "       0, 2, 0, 0, 1, 2, 2, 0, 0, 2, 2, 0, 1, 0, 1, 2, 1, 2, 1, 0, 2, 0,\n",
       "       1, 1, 1, 0, 0, 1, 1, 2, 1, 0, 2, 1, 0, 0, 2, 2, 0, 1, 1, 2, 1, 2,\n",
       "       2, 0, 2, 1, 1, 1, 1, 2, 1, 1, 1, 1, 1, 2, 2], dtype=int32)"
      ]
     },
     "execution_count": 135,
     "metadata": {},
     "output_type": "execute_result"
    }
   ],
   "source": [
    "model_kmeans=KMeans(n_clusters=3)\n",
    "model_kmeans.fit(df2)\n",
    "cluster=model_kmeans.predict(df2)\n",
    "cluster"
   ]
  },
  {
   "cell_type": "code",
   "execution_count": 136,
   "id": "ed67e9c5",
   "metadata": {},
   "outputs": [],
   "source": [
    "df2['cluster']=cluster\n",
    "df_n=df2['cluster']\n",
    "df_n=pd.DataFrame(df_n)\n",
    "df_n['country']=df['country']\n",
    "df['cluster']=df_n['cluster']"
   ]
  },
  {
   "cell_type": "code",
   "execution_count": 137,
   "id": "596240ce",
   "metadata": {},
   "outputs": [
    {
     "data": {
      "text/html": [
       "<div>\n",
       "<style scoped>\n",
       "    .dataframe tbody tr th:only-of-type {\n",
       "        vertical-align: middle;\n",
       "    }\n",
       "\n",
       "    .dataframe tbody tr th {\n",
       "        vertical-align: top;\n",
       "    }\n",
       "\n",
       "    .dataframe thead th {\n",
       "        text-align: right;\n",
       "    }\n",
       "</style>\n",
       "<table border=\"1\" class=\"dataframe\">\n",
       "  <thead>\n",
       "    <tr style=\"text-align: right;\">\n",
       "      <th></th>\n",
       "      <th>child_mort</th>\n",
       "      <th>exports</th>\n",
       "      <th>health</th>\n",
       "      <th>imports</th>\n",
       "      <th>income</th>\n",
       "      <th>inflation</th>\n",
       "      <th>life_expec</th>\n",
       "      <th>total_fer</th>\n",
       "      <th>gdpp</th>\n",
       "    </tr>\n",
       "    <tr>\n",
       "      <th>cluster</th>\n",
       "      <th></th>\n",
       "      <th></th>\n",
       "      <th></th>\n",
       "      <th></th>\n",
       "      <th></th>\n",
       "      <th></th>\n",
       "      <th></th>\n",
       "      <th></th>\n",
       "      <th></th>\n",
       "    </tr>\n",
       "  </thead>\n",
       "  <tbody>\n",
       "    <tr>\n",
       "      <th>0.0</th>\n",
       "      <td>32.178571</td>\n",
       "      <td>43.272143</td>\n",
       "      <td>7.785000</td>\n",
       "      <td>50.485714</td>\n",
       "      <td>21179.071429</td>\n",
       "      <td>4.454750</td>\n",
       "      <td>71.571429</td>\n",
       "      <td>2.448571</td>\n",
       "      <td>18477.535714</td>\n",
       "    </tr>\n",
       "    <tr>\n",
       "      <th>1.0</th>\n",
       "      <td>46.394828</td>\n",
       "      <td>39.093103</td>\n",
       "      <td>6.113793</td>\n",
       "      <td>42.710345</td>\n",
       "      <td>15433.051724</td>\n",
       "      <td>9.289707</td>\n",
       "      <td>69.896552</td>\n",
       "      <td>3.274138</td>\n",
       "      <td>11207.275862</td>\n",
       "    </tr>\n",
       "    <tr>\n",
       "      <th>2.0</th>\n",
       "      <td>36.451282</td>\n",
       "      <td>41.507154</td>\n",
       "      <td>6.805897</td>\n",
       "      <td>50.342715</td>\n",
       "      <td>16832.615385</td>\n",
       "      <td>7.155128</td>\n",
       "      <td>70.466667</td>\n",
       "      <td>2.808974</td>\n",
       "      <td>11778.871795</td>\n",
       "    </tr>\n",
       "  </tbody>\n",
       "</table>\n",
       "</div>"
      ],
      "text/plain": [
       "         child_mort    exports    health    imports        income  inflation  \\\n",
       "cluster                                                                        \n",
       "0.0       32.178571  43.272143  7.785000  50.485714  21179.071429   4.454750   \n",
       "1.0       46.394828  39.093103  6.113793  42.710345  15433.051724   9.289707   \n",
       "2.0       36.451282  41.507154  6.805897  50.342715  16832.615385   7.155128   \n",
       "\n",
       "         life_expec  total_fer          gdpp  \n",
       "cluster                                       \n",
       "0.0       71.571429   2.448571  18477.535714  \n",
       "1.0       69.896552   3.274138  11207.275862  \n",
       "2.0       70.466667   2.808974  11778.871795  "
      ]
     },
     "execution_count": 137,
     "metadata": {},
     "output_type": "execute_result"
    }
   ],
   "source": [
    "df.groupby('cluster').mean()"
   ]
  },
  {
   "cell_type": "code",
   "execution_count": 138,
   "id": "9d475a64",
   "metadata": {},
   "outputs": [
    {
     "name": "stderr",
     "output_type": "stream",
     "text": [
      "/opt/anaconda3/lib/python3.9/site-packages/seaborn/_decorators.py:36: FutureWarning: Pass the following variables as keyword args: x, y. From version 0.12, the only valid positional argument will be `data`, and passing other arguments without an explicit keyword will result in an error or misinterpretation.\n",
      "  warnings.warn(\n"
     ]
    },
    {
     "data": {
      "image/png": "[encoded data removed]",
      "text/plain": [
       "<Figure size 432x288 with 1 Axes>"
      ]
     },
     "metadata": {
      "needs_background": "light"
     },
     "output_type": "display_data"
    }
   ],
   "source": [
    "scat = sns.scatterplot(\"gdpp\",\"health\",s=50,data=df,hue=\"cluster\",palette=\"Set1\")"
   ]
  },
  {
   "cell_type": "code",
   "execution_count": 139,
   "id": "c4c6f634",
   "metadata": {},
   "outputs": [
    {
     "name": "stderr",
     "output_type": "stream",
     "text": [
      "/opt/anaconda3/lib/python3.9/site-packages/seaborn/_decorators.py:36: FutureWarning: Pass the following variables as keyword args: x, y. From version 0.12, the only valid positional argument will be `data`, and passing other arguments without an explicit keyword will result in an error or misinterpretation.\n",
      "  warnings.warn(\n"
     ]
    },
    {
     "data": {
      "image/png": "[encoded data removed]",
      "text/plain": [
       "<Figure size 432x288 with 1 Axes>"
      ]
     },
     "metadata": {
      "needs_background": "light"
     },
     "output_type": "display_data"
    }
   ],
   "source": [
    "scat = sns.scatterplot(\"gdpp\",\"income\",s=50,data=df,hue=\"cluster\",palette=\"Set1\")"
   ]
  },
  {
   "cell_type": "code",
   "execution_count": 143,
   "id": "8894d1d4",
   "metadata": {},
   "outputs": [
    {
     "name": "stderr",
     "output_type": "stream",
     "text": [
      "/opt/anaconda3/lib/python3.9/site-packages/seaborn/_decorators.py:36: FutureWarning: Pass the following variables as keyword args: x, y. From version 0.12, the only valid positional argument will be `data`, and passing other arguments without an explicit keyword will result in an error or misinterpretation.\n",
      "  warnings.warn(\n"
     ]
    },
    {
     "data": {
      "image/png": "[encoded data removed]",
      "text/plain": [
       "<Figure size 432x288 with 1 Axes>"
      ]
     },
     "metadata": {
      "needs_background": "light"
     },
     "output_type": "display_data"
    }
   ],
   "source": [
    "scat = sns.scatterplot(\"gdpp\",\"child_mort\",s=50,data=df,hue=\"cluster\",palette=\"Set1\")"
   ]
  },
  {
   "cell_type": "code",
   "execution_count": 145,
   "id": "50a48c71",
   "metadata": {},
   "outputs": [
    {
     "name": "stderr",
     "output_type": "stream",
     "text": [
      "/opt/anaconda3/lib/python3.9/site-packages/seaborn/_decorators.py:36: FutureWarning: Pass the following variables as keyword args: x, y. From version 0.12, the only valid positional argument will be `data`, and passing other arguments without an explicit keyword will result in an error or misinterpretation.\n",
      "  warnings.warn(\n"
     ]
    },
    {
     "data": {
      "image/png": "[encoded data removed]",
      "text/plain": [
       "<Figure size 432x288 with 1 Axes>"
      ]
     },
     "metadata": {
      "needs_background": "light"
     },
     "output_type": "display_data"
    }
   ],
   "source": [
    "scat = sns.scatterplot(\"health\",\"life_expec\",s=50,data=df,hue=\"cluster\",palette=\"Set1\")"
   ]
  },
  {
   "cell_type": "code",
   "execution_count": 114,
   "id": "f60bc3fa",
   "metadata": {},
   "outputs": [
    {
     "data": {
      "text/plain": [
       "0    60\n",
       "2    37\n",
       "1    28\n",
       "Name: cluster, dtype: int64"
      ]
     },
     "execution_count": 114,
     "metadata": {},
     "output_type": "execute_result"
    }
   ],
   "source": [
    "df_n['cluster'].value_counts()"
   ]
  },
  {
   "cell_type": "code",
   "execution_count": 115,
   "id": "d6b167f6",
   "metadata": {},
   "outputs": [
    {
     "data": {
      "text/plain": [
       "['Albania',\n",
       " 'Algeria',\n",
       " 'Argentina',\n",
       " 'Armenia',\n",
       " 'Australia',\n",
       " 'Bahamas',\n",
       " 'Bangladesh',\n",
       " 'Barbados',\n",
       " 'Belgium',\n",
       " 'Belize',\n",
       " 'Benin',\n",
       " 'Bhutan',\n",
       " 'Bolivia',\n",
       " 'Brunei',\n",
       " 'Burkina Faso',\n",
       " 'Cambodia',\n",
       " 'Cameroon',\n",
       " 'Chad',\n",
       " 'Comoros',\n",
       " 'Congo, Dem. Rep.',\n",
       " 'Congo, Rep.',\n",
       " 'Costa Rica',\n",
       " 'Cyprus',\n",
       " 'Czech Republic',\n",
       " 'Dominican Republic',\n",
       " 'El Salvador',\n",
       " 'Equatorial Guinea',\n",
       " 'Fiji',\n",
       " 'France',\n",
       " 'Gabon',\n",
       " 'Gambia',\n",
       " 'Georgia',\n",
       " 'Germany',\n",
       " 'Ghana',\n",
       " 'Greece',\n",
       " 'Guinea',\n",
       " 'Indonesia',\n",
       " 'Jordan',\n",
       " 'Kenya',\n",
       " 'Kuwait',\n",
       " 'Lao',\n",
       " 'Liberia',\n",
       " 'Libya',\n",
       " 'Lithuania',\n",
       " 'Madagascar',\n",
       " 'Malawi',\n",
       " 'Maldives',\n",
       " 'Mauritania',\n",
       " 'Morocco',\n",
       " 'Mozambique',\n",
       " 'Namibia',\n",
       " 'Nigeria',\n",
       " 'Norway',\n",
       " 'Oman',\n",
       " 'Pakistan',\n",
       " 'Paraguay',\n",
       " 'Peru',\n",
       " 'Philippines',\n",
       " 'Poland',\n",
       " 'Portugal']"
      ]
     },
     "execution_count": 115,
     "metadata": {},
     "output_type": "execute_result"
    }
   ],
   "source": [
    "cluster0=list(df[df['cluster']==0].country)\n",
    "cluster0"
   ]
  },
  {
   "cell_type": "code",
   "execution_count": null,
   "id": "ef95f2e5",
   "metadata": {},
   "outputs": [],
   "source": []
  },
  {
   "cell_type": "code",
   "execution_count": null,
   "id": "84bd4c35",
   "metadata": {},
   "outputs": [],
   "source": []
  },
  {
   "cell_type": "code",
   "execution_count": null,
   "id": "59fec09a",
   "metadata": {},
   "outputs": [],
   "source": []
  },
  {
   "cell_type": "code",
   "execution_count": null,
   "id": "3b005b73",
   "metadata": {},
   "outputs": [],
   "source": []
  }
 ],
 "metadata": {
  "kernelspec": {
   "display_name": "Python 3 (ipykernel)",
   "language": "python",
   "name": "python3"
  },
  "language_info": {
   "codemirror_mode": {
    "name": "ipython",
    "version": 3
   },
   "file_extension": ".py",
   "mimetype": "text/x-python",
   "name": "python",
   "nbconvert_exporter": "python",
   "pygments_lexer": "ipython3",
   "version": "3.9.12"
  }
 },
 "nbformat": 4,
 "nbformat_minor": 5
}
